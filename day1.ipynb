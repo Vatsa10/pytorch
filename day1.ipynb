{
  "nbformat": 4,
  "nbformat_minor": 0,
  "metadata": {
    "colab": {
      "provenance": [],
      "authorship_tag": "ABX9TyMz8PEvyoK1pv+AHyIbdjLU",
      "include_colab_link": true
    },
    "kernelspec": {
      "name": "python3",
      "display_name": "Python 3"
    },
    "language_info": {
      "name": "python"
    }
  },
  "cells": [
    {
      "cell_type": "markdown",
      "metadata": {
        "id": "view-in-github",
        "colab_type": "text"
      },
      "source": [
        "<a href=\"https://colab.research.google.com/github/Vatsa10/pytorch/blob/main/day1.ipynb\" target=\"_parent\"><img src=\"https://colab.research.google.com/assets/colab-badge.svg\" alt=\"Open In Colab\"/></a>"
      ]
    },
    {
      "cell_type": "markdown",
      "source": [
        "# **Quickstart**"
      ],
      "metadata": {
        "id": "lBrMvEBedhV_"
      }
    },
    {
      "cell_type": "code",
      "execution_count": 1,
      "metadata": {
        "colab": {
          "base_uri": "https://localhost:8080/"
        },
        "id": "UkxwKitpQlH3",
        "outputId": "74530914-10a7-4a30-8e8a-f8022574f64d"
      },
      "outputs": [
        {
          "output_type": "stream",
          "name": "stdout",
          "text": [
            "Requirement already satisfied: torch in /usr/local/lib/python3.12/dist-packages (2.8.0+cu126)\n",
            "Requirement already satisfied: torchvision in /usr/local/lib/python3.12/dist-packages (0.23.0+cu126)\n",
            "Requirement already satisfied: filelock in /usr/local/lib/python3.12/dist-packages (from torch) (3.19.1)\n",
            "Requirement already satisfied: typing-extensions>=4.10.0 in /usr/local/lib/python3.12/dist-packages (from torch) (4.15.0)\n",
            "Requirement already satisfied: setuptools in /usr/local/lib/python3.12/dist-packages (from torch) (75.2.0)\n",
            "Requirement already satisfied: sympy>=1.13.3 in /usr/local/lib/python3.12/dist-packages (from torch) (1.13.3)\n",
            "Requirement already satisfied: networkx in /usr/local/lib/python3.12/dist-packages (from torch) (3.5)\n",
            "Requirement already satisfied: jinja2 in /usr/local/lib/python3.12/dist-packages (from torch) (3.1.6)\n",
            "Requirement already satisfied: fsspec in /usr/local/lib/python3.12/dist-packages (from torch) (2025.3.0)\n",
            "Requirement already satisfied: nvidia-cuda-nvrtc-cu12==12.6.77 in /usr/local/lib/python3.12/dist-packages (from torch) (12.6.77)\n",
            "Requirement already satisfied: nvidia-cuda-runtime-cu12==12.6.77 in /usr/local/lib/python3.12/dist-packages (from torch) (12.6.77)\n",
            "Requirement already satisfied: nvidia-cuda-cupti-cu12==12.6.80 in /usr/local/lib/python3.12/dist-packages (from torch) (12.6.80)\n",
            "Requirement already satisfied: nvidia-cudnn-cu12==9.10.2.21 in /usr/local/lib/python3.12/dist-packages (from torch) (9.10.2.21)\n",
            "Requirement already satisfied: nvidia-cublas-cu12==12.6.4.1 in /usr/local/lib/python3.12/dist-packages (from torch) (12.6.4.1)\n",
            "Requirement already satisfied: nvidia-cufft-cu12==11.3.0.4 in /usr/local/lib/python3.12/dist-packages (from torch) (11.3.0.4)\n",
            "Requirement already satisfied: nvidia-curand-cu12==10.3.7.77 in /usr/local/lib/python3.12/dist-packages (from torch) (10.3.7.77)\n",
            "Requirement already satisfied: nvidia-cusolver-cu12==11.7.1.2 in /usr/local/lib/python3.12/dist-packages (from torch) (11.7.1.2)\n",
            "Requirement already satisfied: nvidia-cusparse-cu12==12.5.4.2 in /usr/local/lib/python3.12/dist-packages (from torch) (12.5.4.2)\n",
            "Requirement already satisfied: nvidia-cusparselt-cu12==0.7.1 in /usr/local/lib/python3.12/dist-packages (from torch) (0.7.1)\n",
            "Requirement already satisfied: nvidia-nccl-cu12==2.27.3 in /usr/local/lib/python3.12/dist-packages (from torch) (2.27.3)\n",
            "Requirement already satisfied: nvidia-nvtx-cu12==12.6.77 in /usr/local/lib/python3.12/dist-packages (from torch) (12.6.77)\n",
            "Requirement already satisfied: nvidia-nvjitlink-cu12==12.6.85 in /usr/local/lib/python3.12/dist-packages (from torch) (12.6.85)\n",
            "Requirement already satisfied: nvidia-cufile-cu12==1.11.1.6 in /usr/local/lib/python3.12/dist-packages (from torch) (1.11.1.6)\n",
            "Requirement already satisfied: triton==3.4.0 in /usr/local/lib/python3.12/dist-packages (from torch) (3.4.0)\n",
            "Requirement already satisfied: numpy in /usr/local/lib/python3.12/dist-packages (from torchvision) (2.0.2)\n",
            "Requirement already satisfied: pillow!=8.3.*,>=5.3.0 in /usr/local/lib/python3.12/dist-packages (from torchvision) (11.3.0)\n",
            "Requirement already satisfied: mpmath<1.4,>=1.1.0 in /usr/local/lib/python3.12/dist-packages (from sympy>=1.13.3->torch) (1.3.0)\n",
            "Requirement already satisfied: MarkupSafe>=2.0 in /usr/local/lib/python3.12/dist-packages (from jinja2->torch) (3.0.2)\n"
          ]
        }
      ],
      "source": [
        "!pip3 install torch torchvision"
      ]
    },
    {
      "cell_type": "code",
      "source": [
        "import torch\n",
        "from torch import nn\n",
        "from torch.utils.data import DataLoader\n",
        "from torchvision import datasets\n",
        "from torchvision.transforms import ToTensor"
      ],
      "metadata": {
        "id": "dz9h1IV0RxtX"
      },
      "execution_count": 3,
      "outputs": []
    },
    {
      "cell_type": "code",
      "source": [
        "training_data = datasets.FashionMNIST(\n",
        "    root = \"data\",\n",
        "    train = True,\n",
        "    download = True,\n",
        "    transform=ToTensor(),\n",
        ")"
      ],
      "metadata": {
        "colab": {
          "base_uri": "https://localhost:8080/"
        },
        "id": "XkFD4M4tRzMM",
        "outputId": "f4e902fc-e5d6-40d8-ed70-20e6597c326e"
      },
      "execution_count": 4,
      "outputs": [
        {
          "output_type": "stream",
          "name": "stderr",
          "text": [
            "100%|██████████| 26.4M/26.4M [00:01<00:00, 17.3MB/s]\n",
            "100%|██████████| 29.5k/29.5k [00:00<00:00, 272kB/s]\n",
            "100%|██████████| 4.42M/4.42M [00:00<00:00, 5.08MB/s]\n",
            "100%|██████████| 5.15k/5.15k [00:00<00:00, 12.7MB/s]\n"
          ]
        }
      ]
    },
    {
      "cell_type": "code",
      "source": [
        "test_data = datasets.FashionMNIST(\n",
        "    root=\"data\",\n",
        "    train=False,\n",
        "    download=True,\n",
        "    transform=ToTensor(),\n",
        ")"
      ],
      "metadata": {
        "id": "R_tooSz6SaYV"
      },
      "execution_count": 5,
      "outputs": []
    },
    {
      "cell_type": "code",
      "source": [
        "batch_size = 64\n",
        "\n",
        "train_dataloader = DataLoader(training_data, batch_size=batch_size)\n",
        "test_dataloader = DataLoader(test_data, batch_size=batch_size)"
      ],
      "metadata": {
        "id": "P6X-bo7nSgPP"
      },
      "execution_count": 6,
      "outputs": []
    },
    {
      "cell_type": "code",
      "source": [
        "for X,y in test_dataloader:\n",
        "  print(f\"Shape of X [N,C,H,W]: {X.shape}\")\n",
        "  print(f\"Shape of y: {y.shape} {y.dtype}\")\n",
        "  break"
      ],
      "metadata": {
        "colab": {
          "base_uri": "https://localhost:8080/"
        },
        "id": "I_chWcPJS1M3",
        "outputId": "8abbe7f1-9a7d-4a93-cdb2-34bf84c250aa"
      },
      "execution_count": 7,
      "outputs": [
        {
          "output_type": "stream",
          "name": "stdout",
          "text": [
            "Shape of X [N,C,H,W]: torch.Size([64, 1, 28, 28])\n",
            "Shape of y: torch.Size([64]) torch.int64\n"
          ]
        }
      ]
    },
    {
      "cell_type": "code",
      "source": [
        "device = torch.accelerator.current_accelerator().type if torch.accelerator.is_available() else \"cpu\"\n",
        "print(f\"Using {device} device\")\n",
        "\n",
        "# Define model\n",
        "class NeuralNetwork(nn.Module):\n",
        "    def __init__(self):\n",
        "        super(NeuralNetwork, self).__init__()\n",
        "        self.flatten = nn.Flatten()\n",
        "        self.linear_relu_stack = nn.Sequential(\n",
        "            nn.Linear(28*28, 512),\n",
        "            nn.ReLU(),\n",
        "            nn.Linear(512, 512),\n",
        "            nn.ReLU(),\n",
        "            nn.Linear(512, 10))\n",
        "    def forward(self,x):\n",
        "      x = self.flatten(x)\n",
        "      logits = self.linear_relu_stack(x)\n",
        "      return logits\n",
        "\n",
        "model = NeuralNetwork().to(device)\n",
        "print(model)\n"
      ],
      "metadata": {
        "colab": {
          "base_uri": "https://localhost:8080/"
        },
        "id": "2TY0GwqYTR0y",
        "outputId": "de2ebf3f-3ac8-4634-a253-6b75ebdbf323"
      },
      "execution_count": 10,
      "outputs": [
        {
          "output_type": "stream",
          "name": "stdout",
          "text": [
            "Using cpu device\n",
            "NeuralNetwork(\n",
            "  (flatten): Flatten(start_dim=1, end_dim=-1)\n",
            "  (linear_relu_stack): Sequential(\n",
            "    (0): Linear(in_features=784, out_features=512, bias=True)\n",
            "    (1): ReLU()\n",
            "    (2): Linear(in_features=512, out_features=512, bias=True)\n",
            "    (3): ReLU()\n",
            "    (4): Linear(in_features=512, out_features=10, bias=True)\n",
            "  )\n",
            ")\n"
          ]
        }
      ]
    },
    {
      "cell_type": "code",
      "source": [
        "loss_fn = nn.CrossEntropyLoss()\n",
        "optimizer = torch.optim.SGD(model.parameters(), lr=1e-3)"
      ],
      "metadata": {
        "id": "x-kVAGodbCaN"
      },
      "execution_count": 11,
      "outputs": []
    },
    {
      "cell_type": "code",
      "source": [
        "def train(dataloader, model, loss_fn, optimizer):\n",
        "    size = len(dataloader.dataset)\n",
        "    model.train()\n",
        "    for batch, (X, y) in enumerate(dataloader):\n",
        "        X, y = X.to(device), y.to(device)\n",
        "\n",
        "        # Compute prediction error\n",
        "        pred = model(X)\n",
        "        loss = loss_fn(pred, y)\n",
        "\n",
        "        # Backpropagation\n",
        "        loss.backward()\n",
        "        optimizer.step()\n",
        "        optimizer.zero_grad()\n",
        "\n",
        "        if batch % 100 == 0:\n",
        "            loss, current = loss.item(), (batch + 1) * len(X)\n",
        "            print(f\"loss: {loss:>7f}  [{current:>5d}/{size:>5d}]\")"
      ],
      "metadata": {
        "id": "acLL7Wr6beeu"
      },
      "execution_count": 12,
      "outputs": []
    },
    {
      "cell_type": "code",
      "source": [
        "def test(dataloader, model, loss_fn):\n",
        "    size = len(dataloader.dataset)\n",
        "    num_batches = len(dataloader)\n",
        "    model.eval()\n",
        "    test_loss, correct = 0, 0\n",
        "    with torch.no_grad():\n",
        "        for X, y in dataloader:\n",
        "            X, y = X.to(device), y.to(device)\n",
        "            pred = model(X)\n",
        "            test_loss += loss_fn(pred, y).item()\n",
        "            correct += (pred.argmax(1) == y).type(torch.float).sum().item()\n",
        "    test_loss /= num_batches\n",
        "    correct /= size\n",
        "    print(f\"Test Error: \\n Accuracy: {(100*correct):>0.1f}%, Avg loss: {test_loss:>8f} \\n\")"
      ],
      "metadata": {
        "id": "MTgZplLHcMgv"
      },
      "execution_count": 13,
      "outputs": []
    },
    {
      "cell_type": "code",
      "source": [
        "epochs = 10\n",
        "for t in range(epochs):\n",
        "    print(f\"Epoch {t+1}\\n-------------------------------\")\n",
        "    train(train_dataloader, model, loss_fn, optimizer)\n",
        "    test(test_dataloader, model, loss_fn)\n",
        "print(\"Done!\")"
      ],
      "metadata": {
        "colab": {
          "base_uri": "https://localhost:8080/"
        },
        "id": "vMfm-CFjcWJh",
        "outputId": "632e8ef0-a916-40d2-e9d6-cdb1bc8d2953"
      },
      "execution_count": 14,
      "outputs": [
        {
          "output_type": "stream",
          "name": "stdout",
          "text": [
            "Epoch 1\n",
            "-------------------------------\n",
            "loss: 2.307171  [   64/60000]\n",
            "loss: 2.299361  [ 6464/60000]\n",
            "loss: 2.271440  [12864/60000]\n",
            "loss: 2.265942  [19264/60000]\n",
            "loss: 2.242117  [25664/60000]\n",
            "loss: 2.214444  [32064/60000]\n",
            "loss: 2.231007  [38464/60000]\n",
            "loss: 2.189065  [44864/60000]\n",
            "loss: 2.194839  [51264/60000]\n",
            "loss: 2.156289  [57664/60000]\n",
            "Test Error: \n",
            " Accuracy: 33.7%, Avg loss: 2.148426 \n",
            "\n",
            "Epoch 2\n",
            "-------------------------------\n",
            "loss: 2.164215  [   64/60000]\n",
            "loss: 2.157107  [ 6464/60000]\n",
            "loss: 2.091562  [12864/60000]\n",
            "loss: 2.104549  [19264/60000]\n",
            "loss: 2.050441  [25664/60000]\n",
            "loss: 1.996728  [32064/60000]\n",
            "loss: 2.030390  [38464/60000]\n",
            "loss: 1.947761  [44864/60000]\n",
            "loss: 1.960646  [51264/60000]\n",
            "loss: 1.876252  [57664/60000]\n",
            "Test Error: \n",
            " Accuracy: 54.6%, Avg loss: 1.871839 \n",
            "\n",
            "Epoch 3\n",
            "-------------------------------\n",
            "loss: 1.916819  [   64/60000]\n",
            "loss: 1.881289  [ 6464/60000]\n",
            "loss: 1.756630  [12864/60000]\n",
            "loss: 1.791350  [19264/60000]\n",
            "loss: 1.676802  [25664/60000]\n",
            "loss: 1.645326  [32064/60000]\n",
            "loss: 1.663676  [38464/60000]\n",
            "loss: 1.567721  [44864/60000]\n",
            "loss: 1.592933  [51264/60000]\n",
            "loss: 1.482980  [57664/60000]\n",
            "Test Error: \n",
            " Accuracy: 58.9%, Avg loss: 1.498777 \n",
            "\n",
            "Epoch 4\n",
            "-------------------------------\n",
            "loss: 1.576408  [   64/60000]\n",
            "loss: 1.535573  [ 6464/60000]\n",
            "loss: 1.385275  [12864/60000]\n",
            "loss: 1.449825  [19264/60000]\n",
            "loss: 1.335105  [25664/60000]\n",
            "loss: 1.344739  [32064/60000]\n",
            "loss: 1.355622  [38464/60000]\n",
            "loss: 1.280421  [44864/60000]\n",
            "loss: 1.314420  [51264/60000]\n",
            "loss: 1.217800  [57664/60000]\n",
            "Test Error: \n",
            " Accuracy: 62.4%, Avg loss: 1.240999 \n",
            "\n",
            "Epoch 5\n",
            "-------------------------------\n",
            "loss: 1.325163  [   64/60000]\n",
            "loss: 1.303571  [ 6464/60000]\n",
            "loss: 1.138105  [12864/60000]\n",
            "loss: 1.238625  [19264/60000]\n",
            "loss: 1.122221  [25664/60000]\n",
            "loss: 1.152295  [32064/60000]\n",
            "loss: 1.173939  [38464/60000]\n",
            "loss: 1.105636  [44864/60000]\n",
            "loss: 1.143705  [51264/60000]\n",
            "loss: 1.067183  [57664/60000]\n",
            "Test Error: \n",
            " Accuracy: 64.4%, Avg loss: 1.084925 \n",
            "\n",
            "Epoch 6\n",
            "-------------------------------\n",
            "loss: 1.160940  [   64/60000]\n",
            "loss: 1.160751  [ 6464/60000]\n",
            "loss: 0.977925  [12864/60000]\n",
            "loss: 1.110477  [19264/60000]\n",
            "loss: 0.992620  [25664/60000]\n",
            "loss: 1.023788  [32064/60000]\n",
            "loss: 1.061625  [38464/60000]\n",
            "loss: 0.995188  [44864/60000]\n",
            "loss: 1.032260  [51264/60000]\n",
            "loss: 0.972942  [57664/60000]\n",
            "Test Error: \n",
            " Accuracy: 65.8%, Avg loss: 0.984102 \n",
            "\n",
            "Epoch 7\n",
            "-------------------------------\n",
            "loss: 1.046873  [   64/60000]\n",
            "loss: 1.067578  [ 6464/60000]\n",
            "loss: 0.868231  [12864/60000]\n",
            "loss: 1.025332  [19264/60000]\n",
            "loss: 0.910011  [25664/60000]\n",
            "loss: 0.931884  [32064/60000]\n",
            "loss: 0.986730  [38464/60000]\n",
            "loss: 0.922465  [44864/60000]\n",
            "loss: 0.954101  [51264/60000]\n",
            "loss: 0.908630  [57664/60000]\n",
            "Test Error: \n",
            " Accuracy: 67.1%, Avg loss: 0.914210 \n",
            "\n",
            "Epoch 8\n",
            "-------------------------------\n",
            "loss: 0.961967  [   64/60000]\n",
            "loss: 1.001217  [ 6464/60000]\n",
            "loss: 0.788297  [12864/60000]\n",
            "loss: 0.963632  [19264/60000]\n",
            "loss: 0.853371  [25664/60000]\n",
            "loss: 0.862847  [32064/60000]\n",
            "loss: 0.932724  [38464/60000]\n",
            "loss: 0.872472  [44864/60000]\n",
            "loss: 0.896673  [51264/60000]\n",
            "loss: 0.861046  [57664/60000]\n",
            "Test Error: \n",
            " Accuracy: 68.3%, Avg loss: 0.862736 \n",
            "\n",
            "Epoch 9\n",
            "-------------------------------\n",
            "loss: 0.895413  [   64/60000]\n",
            "loss: 0.949841  [ 6464/60000]\n",
            "loss: 0.727298  [12864/60000]\n",
            "loss: 0.916384  [19264/60000]\n",
            "loss: 0.811655  [25664/60000]\n",
            "loss: 0.809653  [32064/60000]\n",
            "loss: 0.890839  [38464/60000]\n",
            "loss: 0.836815  [44864/60000]\n",
            "loss: 0.852916  [51264/60000]\n",
            "loss: 0.823722  [57664/60000]\n",
            "Test Error: \n",
            " Accuracy: 69.6%, Avg loss: 0.822990 \n",
            "\n",
            "Epoch 10\n",
            "-------------------------------\n",
            "loss: 0.841245  [   64/60000]\n",
            "loss: 0.907882  [ 6464/60000]\n",
            "loss: 0.679063  [12864/60000]\n",
            "loss: 0.878773  [19264/60000]\n",
            "loss: 0.779408  [25664/60000]\n",
            "loss: 0.767815  [32064/60000]\n",
            "loss: 0.856362  [38464/60000]\n",
            "loss: 0.809886  [44864/60000]\n",
            "loss: 0.818357  [51264/60000]\n",
            "loss: 0.793147  [57664/60000]\n",
            "Test Error: \n",
            " Accuracy: 71.0%, Avg loss: 0.790939 \n",
            "\n",
            "Done!\n"
          ]
        }
      ]
    },
    {
      "cell_type": "code",
      "source": [
        "torch.save(model.state_dict(), \"model.pth\")\n",
        "print(\"Saved PyTorch Model State to model.pth\")"
      ],
      "metadata": {
        "colab": {
          "base_uri": "https://localhost:8080/"
        },
        "id": "FIn6vaYQc3O5",
        "outputId": "56aaa0e3-1232-4f69-dcb1-55e0096d3eff"
      },
      "execution_count": 15,
      "outputs": [
        {
          "output_type": "stream",
          "name": "stdout",
          "text": [
            "Saved PyTorch Model State to model.pth\n"
          ]
        }
      ]
    },
    {
      "cell_type": "code",
      "source": [
        "model = NeuralNetwork().to(device)\n",
        "model.load_state_dict(torch.load(\"model.pth\", weights_only=True))"
      ],
      "metadata": {
        "colab": {
          "base_uri": "https://localhost:8080/"
        },
        "id": "k5Dx8WJGc4c0",
        "outputId": "64f894da-780d-470b-d253-889ec01d6ba1"
      },
      "execution_count": 16,
      "outputs": [
        {
          "output_type": "execute_result",
          "data": {
            "text/plain": [
              "<All keys matched successfully>"
            ]
          },
          "metadata": {},
          "execution_count": 16
        }
      ]
    },
    {
      "cell_type": "code",
      "source": [
        "classes = [\n",
        "    \"T-shirt/top\",\n",
        "    \"Trouser\",\n",
        "    \"Pullover\",\n",
        "    \"Dress\",\n",
        "    \"Coat\",\n",
        "    \"Sandal\",\n",
        "    \"Shirt\",\n",
        "    \"Sneaker\",\n",
        "    \"Bag\",\n",
        "    \"Ankle boot\",\n",
        "]\n",
        "\n",
        "model.eval()\n",
        "x, y = test_data[0][0], test_data[0][1]\n",
        "with torch.no_grad():\n",
        "    x = x.to(device)\n",
        "    pred = model(x)\n",
        "    predicted, actual = classes[pred[0].argmax(0)], classes[y]\n",
        "    print(f'Predicted: \"{predicted}\", Actual: \"{actual}\"')"
      ],
      "metadata": {
        "colab": {
          "base_uri": "https://localhost:8080/"
        },
        "id": "uBfb3Fzpc5bs",
        "outputId": "a10e302d-7dd2-4231-c669-3bae43bf30c5"
      },
      "execution_count": 17,
      "outputs": [
        {
          "output_type": "stream",
          "name": "stdout",
          "text": [
            "Predicted: \"Ankle boot\", Actual: \"Ankle boot\"\n"
          ]
        }
      ]
    }
  ]
}